{
 "cells": [
  {
   "cell_type": "code",
   "execution_count": 1,
   "metadata": {},
   "outputs": [],
   "source": [
    "from tradingview_ta import TA_Handler, Interval, Exchange\n",
    "import time"
   ]
  },
  {
   "cell_type": "code",
   "execution_count": null,
   "metadata": {},
   "outputs": [],
   "source": [
    "last_order = \"sell\"\n",
    "wallet = 1000\n",
    "last_bought = 0\n",
    "interval = 1\n",
    "\n",
    "# Instantiate TA_Handler.\n",
    "handler = TA_Handler(\n",
    "    symbol=\"AMD\",\n",
    "    exchange=\"nasdaq\",\n",
    "    screener=\"america\",\n",
    "    interval=Interval.INTERVAL_1_HOUR,\n",
    ")"
   ]
  },
  {
   "cell_type": "code",
   "execution_count": null,
   "metadata": {},
   "outputs": [],
   "source": [
    "while True:\n",
    "    f = open(\"log_1_hour.txt\", \"a\")\n",
    "    f.write(f\"----------------------------HOUR{interval}----------------------------\\n\")\n",
    "    analysis = handler.get_analysis()\n",
    "\n",
    "    if \"BUY\" in analysis.summary[\"RECOMMENDATION\"] and last_order == \"sell\" and wallet >= analysis.indicators[\"close\"]:\n",
    "        wallet -= analysis.indicators[\"close\"]\n",
    "        last_bought = analysis.indicators[\"close\"]\n",
    "        last_order = \"buy\"\n",
    "        f.write(f\"bought price = {last_bought}\\n\")\n",
    "    elif \"SELL\" in analysis.summary[\"RECOMMENDATION\"] and last_order == \"buy\":\n",
    "        wallet += analysis.indicators[\"close\"]\n",
    "        sell_price = analysis.indicators[\"close\"]\n",
    "        win_rate = (sell_price - last_bought / last_bought) * 100\n",
    "        mark = 1 if last_bought < sell_price else 0\n",
    "        f.write(f\"sell price = {sell_price}\\n\")\n",
    "        f.write(f\"win rate = {win_rate}\\n\")\n",
    "        f.write(f\"mark = {mark}\\n\")\n",
    "        f.write('\\n')\n",
    "        last_order = \"sell\"\n",
    "\n",
    "    f.close()\n",
    "    interval += 1\n",
    "    time.sleep(3600)"
   ]
  }
 ],
 "metadata": {
  "interpreter": {
   "hash": "6281378ca4ce21a12780c5cc08a7914873b81da2818d50e6905e82453d03cb04"
  },
  "kernelspec": {
   "display_name": "Python 3.10.4 64-bit",
   "language": "python",
   "name": "python3"
  },
  "language_info": {
   "codemirror_mode": {
    "name": "ipython",
    "version": 3
   },
   "file_extension": ".py",
   "mimetype": "text/x-python",
   "name": "python",
   "nbconvert_exporter": "python",
   "pygments_lexer": "ipython3",
   "version": "3.10.4"
  },
  "orig_nbformat": 4
 },
 "nbformat": 4,
 "nbformat_minor": 2
}
