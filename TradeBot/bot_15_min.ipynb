{
 "cells": [
  {
   "cell_type": "code",
   "execution_count": 2,
   "metadata": {},
   "outputs": [],
   "source": [
    "from tradingview_ta import TA_Handler, Interval, Exchange\n",
    "import time"
   ]
  },
  {
   "cell_type": "code",
   "execution_count": 3,
   "metadata": {},
   "outputs": [],
   "source": [
    "last_order = \"sell\"\n",
    "wallet = 1000\n",
    "last_bought = 0\n",
    "interval = 15\n",
    "\n",
    "# Instantiate TA_Handler.\n",
    "handler = TA_Handler(\n",
    "    symbol=\"AMD\",\n",
    "    exchange=\"nasdaq\",\n",
    "    screener=\"america\",\n",
    "    interval=Interval.INTERVAL_15_MINUTES,\n",
    ")"
   ]
  },
  {
   "cell_type": "code",
   "execution_count": 4,
   "metadata": {},
   "outputs": [],
   "source": [
    "while True:\n",
    "    f = open(\"log_15_min.txt\", \"a\")\n",
    "    f.write(f\"----------------------------MIN{interval}----------------------------\\n\")\n",
    "    analysis = handler.get_analysis()\n",
    "\n",
    "    if \"BUY\" in analysis.summary[\"RECOMMENDATION\"] and last_order == \"sell\" and wallet >= analysis.indicators[\"close\"]:\n",
    "        wallet -= analysis.indicators[\"close\"]\n",
    "        last_bought = analysis.indicators[\"close\"]\n",
    "        last_order = \"buy\"\n",
    "        f.write(f\"bought price = {last_bought}\\n\")\n",
    "    elif \"SELL\" in analysis.summary[\"RECOMMENDATION\"] and last_order == \"buy\":\n",
    "        wallet += analysis.indicators[\"close\"]\n",
    "        sell_price = analysis.indicators[\"close\"]\n",
    "        win_rate = (sell_price - last_bought / last_bought) * 100\n",
    "        mark = 1 if last_bought < sell_price else 0\n",
    "        f.write(f\"sell price = {sell_price}\\n\")\n",
    "        f.write(f\"win rate = {win_rate}\\n\")\n",
    "        f.write(f\"mark = {mark}\\n\")\n",
    "        f.write('\\n')\n",
    "        last_order = \"sell\"\n",
    "\n",
    "    f.close()\n",
    "    interval += 15\n",
    "    time.sleep(900)"
   ]
  }
 ],
 "metadata": {
  "interpreter": {
   "hash": "04bf7c5048c44052f72b8bf37baf02c4a3c1f9aba82796c3f014f38260524f40"
  },
  "kernelspec": {
   "display_name": "Python 3.9.12 64-bit (windows store)",
   "language": "python",
   "name": "python3"
  },
  "language_info": {
   "codemirror_mode": {
    "name": "ipython",
    "version": 3
   },
   "file_extension": ".py",
   "mimetype": "text/x-python",
   "name": "python",
   "nbconvert_exporter": "python",
   "pygments_lexer": "ipython3",
   "version": "3.10.4"
  },
  "orig_nbformat": 4
 },
 "nbformat": 4,
 "nbformat_minor": 2
}
