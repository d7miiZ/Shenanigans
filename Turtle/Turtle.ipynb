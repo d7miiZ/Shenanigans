{
 "cells": [
  {
   "cell_type": "code",
   "execution_count": null,
   "id": "ba339ea5",
   "metadata": {},
   "outputs": [],
   "source": [
    "from turtle import *"
   ]
  },
  {
   "cell_type": "code",
   "execution_count": null,
   "id": "6d527a31",
   "metadata": {},
   "outputs": [],
   "source": [
    "speed(10)\n",
    "color(\"yellow\")\n",
    "bgcolor(\"black\")\n",
    "goto(300,100)\n",
    "\n",
    "b = 200\n",
    "\n",
    "while b > 0:\n",
    "    left(b)\n",
    "    forward(b * 3)\n",
    "    b -= 1\n",
    "done()"
   ]
  },
  {
   "cell_type": "code",
   "execution_count": null,
   "id": "51c8e7e9",
   "metadata": {},
   "outputs": [],
   "source": []
  }
 ],
 "metadata": {
  "kernelspec": {
   "display_name": "Python 3 (ipykernel)",
   "language": "python",
   "name": "python3"
  },
  "language_info": {
   "codemirror_mode": {
    "name": "ipython",
    "version": 3
   },
   "file_extension": ".py",
   "mimetype": "text/x-python",
   "name": "python",
   "nbconvert_exporter": "python",
   "pygments_lexer": "ipython3",
   "version": "3.8.10"
  }
 },
 "nbformat": 4,
 "nbformat_minor": 5
}
